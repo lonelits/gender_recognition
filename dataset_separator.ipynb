{
 "cells": [
  {
   "cell_type": "code",
   "execution_count": 13,
   "metadata": {},
   "outputs": [],
   "source": [
    "import numpy as np\n",
    "import os\n",
    "from glob import glob\n",
    "from sklearn.model_selection import ShuffleSplit"
   ]
  },
  {
   "cell_type": "code",
   "execution_count": 7,
   "metadata": {
    "tags": []
   },
   "outputs": [
    {
     "data": {
      "text/plain": [
       "['images/man/actor_man',\n",
       " 'images/man/young_man',\n",
       " 'images/man/sport_man',\n",
       " 'images/man/old_man',\n",
       " 'images/man/man_portrait',\n",
       " 'images/man/boy']"
      ]
     },
     "execution_count": 7,
     "metadata": {},
     "output_type": "execute_result"
    }
   ],
   "source": [
    "man_folders = glob('images/man/*')\n",
    "man_folders"
   ]
  },
  {
   "cell_type": "code",
   "execution_count": 11,
   "metadata": {},
   "outputs": [
    {
     "data": {
      "text/plain": [
       "['images/woman/young_woman',\n",
       " 'images/woman/sport_woman',\n",
       " 'images/woman/actress_woman',\n",
       " 'images/woman/girl',\n",
       " 'images/woman/woman_portrait',\n",
       " 'images/woman/old_woman']"
      ]
     },
     "execution_count": 11,
     "metadata": {},
     "output_type": "execute_result"
    }
   ],
   "source": [
    "woman_folders = glob('images/woman/*')\n",
    "woman_folders"
   ]
  },
  {
   "cell_type": "code",
   "execution_count": 10,
   "metadata": {},
   "outputs": [],
   "source": [
    "counter = 1\n",
    "for folder in man_folders:\n",
    "    for file in glob(folder + '/*'):\n",
    "        os.replace(file, 'data/man/man_' + str(counter) + '.jpg')\n",
    "        counter += 1"
   ]
  },
  {
   "cell_type": "code",
   "execution_count": 12,
   "metadata": {},
   "outputs": [],
   "source": [
    "counter = 1\n",
    "for folder in woman_folders:\n",
    "    for file in glob(folder + '/*'):\n",
    "        os.replace(file, 'data/woman/woman_' + str(counter) + '.jpg')\n",
    "        counter += 1"
   ]
  },
  {
   "cell_type": "code",
   "execution_count": 14,
   "metadata": {},
   "outputs": [],
   "source": [
    "ss = ShuffleSplit(n_splits=1, test_size=0.3)"
   ]
  },
  {
   "cell_type": "code",
   "execution_count": 34,
   "metadata": {
    "tags": []
   },
   "outputs": [],
   "source": [
    "men = np.array(glob('data/man/*'))\n",
    "wemen = glob('data/woman/*')"
   ]
  },
  {
   "cell_type": "code",
   "execution_count": 35,
   "metadata": {
    "tags": []
   },
   "outputs": [
    {
     "data": {
      "text/plain": [
       "array(['data/man/man_1315.jpg', 'data/man/man_416.jpg',\n",
       "       'data/man/man_1842.jpg', ..., 'data/man/man_867.jpg',\n",
       "       'data/man/man_805.jpg', 'data/man/man_665.jpg'], dtype='<U21')"
      ]
     },
     "execution_count": 35,
     "metadata": {},
     "output_type": "execute_result"
    }
   ],
   "source": [
    "men"
   ]
  },
  {
   "cell_type": "code",
   "execution_count": 39,
   "metadata": {},
   "outputs": [
    {
     "data": {
      "text/plain": [
       "array([ 726, 1908,  796, ..., 1247, 1832,  537])"
      ]
     },
     "execution_count": 39,
     "metadata": {},
     "output_type": "execute_result"
    }
   ],
   "source": [
    "list(ss.split(men))[0][0]"
   ]
  },
  {
   "cell_type": "code",
   "execution_count": 40,
   "metadata": {},
   "outputs": [
    {
     "data": {
      "text/plain": [
       "array(['data/man/man_1260.jpg', 'data/man/man_1229.jpg',\n",
       "       'data/man/man_1238.jpg', ..., 'data/man/man_1626.jpg',\n",
       "       'data/man/man_642.jpg', 'data/man/man_46.jpg'], dtype='<U21')"
      ]
     },
     "execution_count": 40,
     "metadata": {},
     "output_type": "execute_result"
    }
   ],
   "source": [
    "men[list(ss.split(men))[0][0]]"
   ]
  },
  {
   "cell_type": "code",
   "execution_count": 41,
   "metadata": {},
   "outputs": [],
   "source": [
    "for i, folder in enumerate(['train', 'test']):\n",
    "    for gender in ['man', 'woman']:\n",
    "        origin_files = np.array(glob('data/'+gender+'/*'))\n",
    "        for file in origin_files[list(ss.split(origin_files))[0][i]]:\n",
    "            os.replace(file, 'data/'+folder+file[4:])"
   ]
  },
  {
   "cell_type": "code",
   "execution_count": null,
   "metadata": {},
   "outputs": [],
   "source": []
  }
 ],
 "metadata": {
  "kernelspec": {
   "display_name": "Python 3 (ipykernel)",
   "language": "python",
   "name": "python3"
  },
  "language_info": {
   "codemirror_mode": {
    "name": "ipython",
    "version": 3
   },
   "file_extension": ".py",
   "mimetype": "text/x-python",
   "name": "python",
   "nbconvert_exporter": "python",
   "pygments_lexer": "ipython3",
   "version": "3.9.6"
  }
 },
 "nbformat": 4,
 "nbformat_minor": 4
}
