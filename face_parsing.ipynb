{
 "cells": [
  {
   "cell_type": "markdown",
   "id": "6b5c83fc-7dd1-48b2-8649-cb7e16df5971",
   "metadata": {},
   "source": [
    "## Parsing"
   ]
  },
  {
   "cell_type": "code",
   "execution_count": null,
   "id": "5aef1297-7441-4c16-90d6-a94fbc374888",
   "metadata": {},
   "outputs": [],
   "source": [
    "from icrawler.builtin import BaiduImageCrawler, BingImageCrawler"
   ]
  },
  {
   "cell_type": "markdown",
   "id": "736cbae7-8d52-48ae-acd8-a7d45cf2121f",
   "metadata": {},
   "source": [
    "#### man"
   ]
  },
  {
   "cell_type": "code",
   "execution_count": null,
   "id": "16b67168-c27b-4d57-8756-1c4b970b837e",
   "metadata": {
    "tags": []
   },
   "outputs": [],
   "source": [
    "# downloading 561 man portrait\n",
    "bing_crawler = BingImageCrawler(downloader_threads=4,\n",
    "                                storage={'root_dir': './images/man'})\n",
    "bing_crawler.crawl(keyword='man portrait', filters=None, offset=0, max_num=4000)"
   ]
  },
  {
   "cell_type": "code",
   "execution_count": null,
   "id": "43cf947b-d0e0-404d-bfff-7bfe0093b237",
   "metadata": {
    "tags": []
   },
   "outputs": [],
   "source": [
    "# downloading 627 sport man\n",
    "bing_crawler = BingImageCrawler(downloader_threads=4,\n",
    "                                storage={'root_dir': './images/man/sport_man'})\n",
    "bing_crawler.crawl(keyword='sport man', filters=None, offset=0, max_num=4000)"
   ]
  },
  {
   "cell_type": "code",
   "execution_count": null,
   "id": "865a9056-665e-4bb9-9ebd-3bf1dc99f823",
   "metadata": {
    "tags": []
   },
   "outputs": [],
   "source": [
    "# downloading 538 actor man\n",
    "bing_crawler = BingImageCrawler(downloader_threads=4,\n",
    "                                storage={'root_dir': './images/man/actor_man'})\n",
    "bing_crawler.crawl(keyword='actor man', filters=None, offset=0, max_num=4000)"
   ]
  },
  {
   "cell_type": "code",
   "execution_count": null,
   "id": "c62ecb1b-1cd1-46d2-8100-6f2ab5945669",
   "metadata": {
    "tags": []
   },
   "outputs": [],
   "source": [
    "# downloading 406 young man\n",
    "bing_crawler = BingImageCrawler(downloader_threads=4,\n",
    "                                storage={'root_dir': './images/man/young_man'})\n",
    "bing_crawler.crawl(keyword='young man', filters=None, offset=0, max_num=4000)"
   ]
  },
  {
   "cell_type": "code",
   "execution_count": null,
   "id": "af412fd1-6136-4e44-a164-3177e1c29512",
   "metadata": {
    "tags": []
   },
   "outputs": [],
   "source": [
    "# downloading 527 old man\n",
    "bing_crawler = BingImageCrawler(downloader_threads=4,\n",
    "                                storage={'root_dir': './images/man/old_man'})\n",
    "bing_crawler.crawl(keyword='old man', filters=None, offset=0, max_num=4000)"
   ]
  },
  {
   "cell_type": "code",
   "execution_count": null,
   "id": "8187e1a9-2e4e-4b60-be59-5b8c013c5bc3",
   "metadata": {
    "tags": []
   },
   "outputs": [],
   "source": [
    "# downloading 599 boy\n",
    "bing_crawler = BingImageCrawler(downloader_threads=4,\n",
    "                                storage={'root_dir': './images/man/boy'})\n",
    "bing_crawler.crawl(keyword='boy', filters=None, offset=0, max_num=4000)"
   ]
  },
  {
   "cell_type": "markdown",
   "id": "58f4a11d-209d-4997-b778-878b761bfe84",
   "metadata": {},
   "source": [
    "#### woman"
   ]
  },
  {
   "cell_type": "code",
   "execution_count": null,
   "id": "40fbe012-aecb-425b-961c-b7cdfb481ded",
   "metadata": {
    "tags": []
   },
   "outputs": [],
   "source": [
    "# downloading 542 woman portrait\n",
    "bing_crawler = BingImageCrawler(downloader_threads=4,\n",
    "                                storage={'root_dir': './images/woman'})\n",
    "bing_crawler.crawl(keyword='woman portrait', filters=None, offset=0, max_num=4000)"
   ]
  },
  {
   "cell_type": "code",
   "execution_count": null,
   "id": "2beeb04f-7bdf-4c84-a3f0-648cff0790b7",
   "metadata": {
    "tags": []
   },
   "outputs": [],
   "source": [
    "# downloading 602 sport woman\n",
    "bing_crawler = BingImageCrawler(downloader_threads=4,\n",
    "                                storage={'root_dir': './images/woman/sport_woman'})\n",
    "bing_crawler.crawl(keyword='sport woman', filters=None, offset=0, max_num=4000)"
   ]
  },
  {
   "cell_type": "code",
   "execution_count": null,
   "id": "313ddc98-d0d3-406c-8af1-c9bc99d0aa58",
   "metadata": {
    "tags": []
   },
   "outputs": [],
   "source": [
    "# downloading 665 actress woman\n",
    "bing_crawler = BingImageCrawler(downloader_threads=4,\n",
    "                                storage={'root_dir': './images/woman/actress_woman'})\n",
    "bing_crawler.crawl(keyword='actress woman', filters=None, offset=0, max_num=4000)"
   ]
  },
  {
   "cell_type": "code",
   "execution_count": null,
   "id": "dc1546f9-aed0-4c4b-a572-61f3c696d614",
   "metadata": {
    "tags": []
   },
   "outputs": [],
   "source": [
    "# downloading 315 young woman\n",
    "bing_crawler = BingImageCrawler(downloader_threads=4,\n",
    "                                storage={'root_dir': './images/woman/young_woman'})\n",
    "bing_crawler.crawl(keyword='young woman', filters=None, offset=0, max_num=4000)"
   ]
  },
  {
   "cell_type": "code",
   "execution_count": null,
   "id": "c94b5223-268b-4a9d-aa0e-ac0987ec8635",
   "metadata": {
    "tags": []
   },
   "outputs": [],
   "source": [
    "# downloading 603 old woman\n",
    "bing_crawler = BingImageCrawler(downloader_threads=4,\n",
    "                                storage={'root_dir': './images/woman/old_woman'})\n",
    "bing_crawler.crawl(keyword='old woman', filters=None, offset=0, max_num=4000)"
   ]
  },
  {
   "cell_type": "code",
   "execution_count": null,
   "id": "dabb260b-cbb0-4a27-bc05-8a612b40ccec",
   "metadata": {
    "tags": []
   },
   "outputs": [],
   "source": [
    "# downloading 537 girl\n",
    "bing_crawler = BingImageCrawler(downloader_threads=4,\n",
    "                                storage={'root_dir': './images/woman/girl'})\n",
    "bing_crawler.crawl(keyword='girl', filters=None, offset=0, max_num=4000)"
   ]
  },
  {
   "cell_type": "code",
   "execution_count": null,
   "id": "8fe2af8c-2c1c-4d82-bc13-f862720e51d8",
   "metadata": {},
   "outputs": [],
   "source": []
  }
 ],
 "metadata": {
  "kernelspec": {
   "display_name": "Python 3 (ipykernel)",
   "language": "python",
   "name": "python3"
  },
  "language_info": {
   "codemirror_mode": {
    "name": "ipython",
    "version": 3
   },
   "file_extension": ".py",
   "mimetype": "text/x-python",
   "name": "python",
   "nbconvert_exporter": "python",
   "pygments_lexer": "ipython3",
   "version": "3.9.6"
  }
 },
 "nbformat": 4,
 "nbformat_minor": 5
}
